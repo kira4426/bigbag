{
 "cells": [
  {
   "cell_type": "markdown",
   "metadata": {},
   "source": [
    "# Проект 2"
   ]
  },
  {
   "cell_type": "code",
   "execution_count": 1,
   "metadata": {},
   "outputs": [],
   "source": [
    "# импорт библиотек\n",
    "\n",
    "import pandas as pd\n",
    "import numpy as np\n",
    "import seaborn as sns\n",
    "%matplotlib inline\n",
    "import matplotlib.pyplot as plt\n",
    "plt.style.use('ggplot')\n",
    "\n",
    "from scipy.stats import norm, shapiro, chi2_contingency\n",
    "from tqdm.auto import tqdm\n",
    "\n",
    "import sys\n",
    "if not sys.warnoptions:\n",
    "    import warnings\n",
    "    warnings.simplefilter(\"ignore\")"
   ]
  },
  {
   "cell_type": "markdown",
   "metadata": {},
   "source": [
    "## 1. A/B–тестирование"
   ]
  },
  {
   "cell_type": "markdown",
   "metadata": {},
   "source": [
    "В ходе тестирования одной гипотезы целевой группе была предложена новая механика оплаты услуг на сайте, у контрольной группы оставалась базовая механика. \n",
    "\n",
    "Необходимо проанализировать итоги эксперимента и сделать вывод, стоит ли запускать новую механику оплаты на всех пользователей."
   ]
  },
  {
   "cell_type": "markdown",
   "metadata": {},
   "source": [
    "### 1.1 Предварительная проверка данных "
   ]
  },
  {
   "cell_type": "markdown",
   "metadata": {},
   "source": [
    "Есть файлы с данными\n",
    "\n",
    "groups.csv - файл с информацией о принадлежности пользователя к контрольной или экспериментальной группе (А – контроль, B – целевая группа) \n",
    "\n",
    "groups_add.csv - дополнительный файл с пользователями, который вам прислали спустя 2 дня после передачи данных\n",
    "\n",
    "active_studs.csv - файл с информацией о пользователях, которые зашли на платформу в дни проведения эксперимента\n",
    "\n",
    "checks.csv - файл с информацией об оплатах пользователей в дни проведения эксперимента."
   ]
  },
  {
   "cell_type": "code",
   "execution_count": 2,
   "metadata": {},
   "outputs": [],
   "source": [
    "# Загружаем, делаем предпроверку\n",
    "\n",
    "url_base = 'https://getfile.dokpub.com/yandex/get/'\n",
    "\n",
    "url_groups = 'https://disk.yandex.ru/d/dEBxbwDgszbA_Q'\n",
    "groups = pd.read_csv(url_base + url_groups, sep=';')\n",
    "\n",
    "url_groups_add = 'https://disk.yandex.ru/d/2Zz0cjwmkXoijQ'\n",
    "groups_add = pd.read_csv(url_base + url_groups_add, sep=',')\n",
    "\n",
    "url_active_studs = 'https://disk.yandex.ru/d/TLDaPvKd8VbPmg'\n",
    "active_studs = pd.read_csv(url_base + url_active_studs, sep=';')\n",
    "\n",
    "url_checks = 'https://disk.yandex.ru/d/adhGJ2OqlyB3yg'\n",
    "checks = pd.read_csv(url_base + url_checks, sep=';')"
   ]
  },
  {
   "cell_type": "code",
   "execution_count": 3,
   "metadata": {},
   "outputs": [
    {
     "data": {
      "text/html": [
       "<div>\n",
       "<style scoped>\n",
       "    .dataframe tbody tr th:only-of-type {\n",
       "        vertical-align: middle;\n",
       "    }\n",
       "\n",
       "    .dataframe tbody tr th {\n",
       "        vertical-align: top;\n",
       "    }\n",
       "\n",
       "    .dataframe thead th {\n",
       "        text-align: right;\n",
       "    }\n",
       "</style>\n",
       "<table border=\"1\" class=\"dataframe\">\n",
       "  <thead>\n",
       "    <tr style=\"text-align: right;\">\n",
       "      <th></th>\n",
       "      <th>id</th>\n",
       "      <th>grp</th>\n",
       "    </tr>\n",
       "  </thead>\n",
       "  <tbody>\n",
       "    <tr>\n",
       "      <th>0</th>\n",
       "      <td>1489</td>\n",
       "      <td>B</td>\n",
       "    </tr>\n",
       "    <tr>\n",
       "      <th>1</th>\n",
       "      <td>1627</td>\n",
       "      <td>A</td>\n",
       "    </tr>\n",
       "  </tbody>\n",
       "</table>\n",
       "</div>"
      ],
      "text/plain": [
       "     id grp\n",
       "0  1489   B\n",
       "1  1627   A"
      ]
     },
     "execution_count": 3,
     "metadata": {},
     "output_type": "execute_result"
    }
   ],
   "source": [
    "groups[:2]"
   ]
  },
  {
   "cell_type": "code",
   "execution_count": 4,
   "metadata": {},
   "outputs": [
    {
     "data": {
      "text/html": [
       "<div>\n",
       "<style scoped>\n",
       "    .dataframe tbody tr th:only-of-type {\n",
       "        vertical-align: middle;\n",
       "    }\n",
       "\n",
       "    .dataframe tbody tr th {\n",
       "        vertical-align: top;\n",
       "    }\n",
       "\n",
       "    .dataframe thead th {\n",
       "        text-align: right;\n",
       "    }\n",
       "</style>\n",
       "<table border=\"1\" class=\"dataframe\">\n",
       "  <thead>\n",
       "    <tr style=\"text-align: right;\">\n",
       "      <th></th>\n",
       "      <th>id</th>\n",
       "      <th>grp</th>\n",
       "    </tr>\n",
       "  </thead>\n",
       "  <tbody>\n",
       "    <tr>\n",
       "      <th>0</th>\n",
       "      <td>5694584</td>\n",
       "      <td>B</td>\n",
       "    </tr>\n",
       "    <tr>\n",
       "      <th>1</th>\n",
       "      <td>5694830</td>\n",
       "      <td>B</td>\n",
       "    </tr>\n",
       "  </tbody>\n",
       "</table>\n",
       "</div>"
      ],
      "text/plain": [
       "        id grp\n",
       "0  5694584   B\n",
       "1  5694830   B"
      ]
     },
     "execution_count": 4,
     "metadata": {},
     "output_type": "execute_result"
    }
   ],
   "source": [
    "groups_add[:2]"
   ]
  },
  {
   "cell_type": "code",
   "execution_count": 5,
   "metadata": {},
   "outputs": [
    {
     "data": {
      "text/html": [
       "<div>\n",
       "<style scoped>\n",
       "    .dataframe tbody tr th:only-of-type {\n",
       "        vertical-align: middle;\n",
       "    }\n",
       "\n",
       "    .dataframe tbody tr th {\n",
       "        vertical-align: top;\n",
       "    }\n",
       "\n",
       "    .dataframe thead th {\n",
       "        text-align: right;\n",
       "    }\n",
       "</style>\n",
       "<table border=\"1\" class=\"dataframe\">\n",
       "  <thead>\n",
       "    <tr style=\"text-align: right;\">\n",
       "      <th></th>\n",
       "      <th>student_id</th>\n",
       "    </tr>\n",
       "  </thead>\n",
       "  <tbody>\n",
       "    <tr>\n",
       "      <th>0</th>\n",
       "      <td>581585</td>\n",
       "    </tr>\n",
       "    <tr>\n",
       "      <th>1</th>\n",
       "      <td>5723133</td>\n",
       "    </tr>\n",
       "  </tbody>\n",
       "</table>\n",
       "</div>"
      ],
      "text/plain": [
       "   student_id\n",
       "0      581585\n",
       "1     5723133"
      ]
     },
     "execution_count": 5,
     "metadata": {},
     "output_type": "execute_result"
    }
   ],
   "source": [
    "active_studs[:2]"
   ]
  },
  {
   "cell_type": "code",
   "execution_count": 6,
   "metadata": {},
   "outputs": [
    {
     "data": {
      "text/html": [
       "<div>\n",
       "<style scoped>\n",
       "    .dataframe tbody tr th:only-of-type {\n",
       "        vertical-align: middle;\n",
       "    }\n",
       "\n",
       "    .dataframe tbody tr th {\n",
       "        vertical-align: top;\n",
       "    }\n",
       "\n",
       "    .dataframe thead th {\n",
       "        text-align: right;\n",
       "    }\n",
       "</style>\n",
       "<table border=\"1\" class=\"dataframe\">\n",
       "  <thead>\n",
       "    <tr style=\"text-align: right;\">\n",
       "      <th></th>\n",
       "      <th>student_id</th>\n",
       "      <th>rev</th>\n",
       "    </tr>\n",
       "  </thead>\n",
       "  <tbody>\n",
       "    <tr>\n",
       "      <th>0</th>\n",
       "      <td>1627</td>\n",
       "      <td>990.0</td>\n",
       "    </tr>\n",
       "    <tr>\n",
       "      <th>1</th>\n",
       "      <td>3185</td>\n",
       "      <td>690.0</td>\n",
       "    </tr>\n",
       "  </tbody>\n",
       "</table>\n",
       "</div>"
      ],
      "text/plain": [
       "   student_id    rev\n",
       "0        1627  990.0\n",
       "1        3185  690.0"
      ]
     },
     "execution_count": 6,
     "metadata": {},
     "output_type": "execute_result"
    }
   ],
   "source": [
    "checks[:2]"
   ]
  },
  {
   "cell_type": "code",
   "execution_count": 7,
   "metadata": {},
   "outputs": [
    {
     "name": "stdout",
     "output_type": "stream",
     "text": [
      "<class 'pandas.core.frame.DataFrame'>\n",
      "RangeIndex: 74484 entries, 0 to 74483\n",
      "Data columns (total 2 columns):\n",
      " #   Column  Non-Null Count  Dtype \n",
      "---  ------  --------------  ----- \n",
      " 0   id      74484 non-null  int64 \n",
      " 1   grp     74484 non-null  object\n",
      "dtypes: int64(1), object(1)\n",
      "memory usage: 1.1+ MB\n",
      "<class 'pandas.core.frame.DataFrame'>\n",
      "RangeIndex: 92 entries, 0 to 91\n",
      "Data columns (total 2 columns):\n",
      " #   Column  Non-Null Count  Dtype \n",
      "---  ------  --------------  ----- \n",
      " 0   id      92 non-null     int64 \n",
      " 1   grp     92 non-null     object\n",
      "dtypes: int64(1), object(1)\n",
      "memory usage: 1.6+ KB\n",
      "<class 'pandas.core.frame.DataFrame'>\n",
      "RangeIndex: 8341 entries, 0 to 8340\n",
      "Data columns (total 1 columns):\n",
      " #   Column      Non-Null Count  Dtype\n",
      "---  ------      --------------  -----\n",
      " 0   student_id  8341 non-null   int64\n",
      "dtypes: int64(1)\n",
      "memory usage: 65.3 KB\n",
      "<class 'pandas.core.frame.DataFrame'>\n",
      "RangeIndex: 541 entries, 0 to 540\n",
      "Data columns (total 2 columns):\n",
      " #   Column      Non-Null Count  Dtype  \n",
      "---  ------      --------------  -----  \n",
      " 0   student_id  541 non-null    int64  \n",
      " 1   rev         541 non-null    float64\n",
      "dtypes: float64(1), int64(1)\n",
      "memory usage: 8.6 KB\n"
     ]
    },
    {
     "data": {
      "text/plain": [
       "(None, None, None, None)"
      ]
     },
     "execution_count": 7,
     "metadata": {},
     "output_type": "execute_result"
    }
   ],
   "source": [
    "groups.info(), groups_add.info(), active_studs.info(), checks.info()"
   ]
  },
  {
   "cell_type": "code",
   "execution_count": 8,
   "metadata": {},
   "outputs": [],
   "source": [
    "# Приводим в соотвествие название колонок в датафреймах\n",
    "\n",
    "active_studs = active_studs.rename(columns={'student_id': 'id'})\n",
    "checks = checks.rename(columns={'student_id': 'id'})"
   ]
  },
  {
   "cell_type": "code",
   "execution_count": 9,
   "metadata": {},
   "outputs": [
    {
     "data": {
      "text/plain": [
       "((74484, 2), (92, 2), (8341, 1), (541, 2))"
      ]
     },
     "execution_count": 9,
     "metadata": {},
     "output_type": "execute_result"
    }
   ],
   "source": [
    "# Сравним размер датафреймоф с кол-вом уникальных  id \n",
    "\n",
    "groups.shape, groups_add.shape, active_studs.shape, checks.shape"
   ]
  },
  {
   "cell_type": "code",
   "execution_count": 10,
   "metadata": {},
   "outputs": [
    {
     "data": {
      "text/plain": [
       "(74484, 92, 8341, 541)"
      ]
     },
     "execution_count": 10,
     "metadata": {},
     "output_type": "execute_result"
    }
   ],
   "source": [
    "groups.id.nunique(), groups_add.id.nunique(), active_studs.id.nunique(), checks.id.nunique()"
   ]
  },
  {
   "cell_type": "markdown",
   "metadata": {},
   "source": [
    "Внутри датафреймов нет пропусков и нет дублей"
   ]
  },
  {
   "cell_type": "code",
   "execution_count": 11,
   "metadata": {},
   "outputs": [
    {
     "data": {
      "text/plain": [
       "(74576, 2)"
      ]
     },
     "execution_count": 11,
     "metadata": {},
     "output_type": "execute_result"
    }
   ],
   "source": [
    "# Объединяем 2 датафрейма - основной с инфо по принадлежности пользователей к группам и дополнительный\n",
    "groups_all = groups.merge(groups_add, how='outer').drop_duplicates()\n",
    "groups_all.shape"
   ]
  },
  {
   "cell_type": "code",
   "execution_count": 12,
   "metadata": {},
   "outputs": [
    {
     "data": {
      "text/plain": [
       "True"
      ]
     },
     "execution_count": 12,
     "metadata": {},
     "output_type": "execute_result"
    }
   ],
   "source": [
    "# Проверим, что при мёрдже не потеряли данные \n",
    "\n",
    "groups.shape[0] + groups_add.shape[0] == groups_all.shape[0]"
   ]
  },
  {
   "cell_type": "code",
   "execution_count": 13,
   "metadata": {},
   "outputs": [
    {
     "data": {
      "text/plain": [
       "149"
      ]
     },
     "execution_count": 13,
     "metadata": {},
     "output_type": "execute_result"
    }
   ],
   "source": [
    "# Проверим, все ли оплатившие пользователи есть в списке активных\n",
    "\n",
    "checks.shape[0] - checks[checks.id.isin(active_studs.id)].shape[0]"
   ]
  },
  {
   "cell_type": "markdown",
   "metadata": {},
   "source": [
    " Выявлено 149 пользователей, которые купили курс, но не были зафиксированны как посетившие сайт. Скорее всего произошла ошибка в записи или технический сбой. Добавляем этих пользователей в список активных"
   ]
  },
  {
   "cell_type": "code",
   "execution_count": 14,
   "metadata": {},
   "outputs": [],
   "source": [
    "active_studs_all = active_studs.merge(checks, how='outer').drop_duplicates().drop(['rev'], axis=1)"
   ]
  },
  {
   "cell_type": "code",
   "execution_count": 15,
   "metadata": {},
   "outputs": [
    {
     "data": {
      "text/plain": [
       "149"
      ]
     },
     "execution_count": 15,
     "metadata": {},
     "output_type": "execute_result"
    }
   ],
   "source": [
    "active_studs_all.shape[0] - active_studs.shape[0]"
   ]
  },
  {
   "cell_type": "code",
   "execution_count": 16,
   "metadata": {},
   "outputs": [],
   "source": [
    "# Данные по активным пользователям добавлены, переходим к объединению фреймов. \n",
    "# Промаркеруем активных и объединим инфо по ним с общим списком пользователей\n",
    "\n",
    "active_studs_all['is_active'] = 1"
   ]
  },
  {
   "cell_type": "code",
   "execution_count": 17,
   "metadata": {},
   "outputs": [],
   "source": [
    "# Начнем с мерджа фреймов всех пользователей с активными \n",
    "\n",
    "users = groups_all.merge(active_studs_all, how='left', on='id').fillna(0)"
   ]
  },
  {
   "cell_type": "code",
   "execution_count": 18,
   "metadata": {},
   "outputs": [],
   "source": [
    "# Добавляем инфо по оплатам\n",
    "\n",
    "full_data = users.merge(checks, how='left', on='id').fillna(0)"
   ]
  },
  {
   "cell_type": "code",
   "execution_count": 19,
   "metadata": {},
   "outputs": [
    {
     "data": {
      "text/html": [
       "<div>\n",
       "<style scoped>\n",
       "    .dataframe tbody tr th:only-of-type {\n",
       "        vertical-align: middle;\n",
       "    }\n",
       "\n",
       "    .dataframe tbody tr th {\n",
       "        vertical-align: top;\n",
       "    }\n",
       "\n",
       "    .dataframe thead th {\n",
       "        text-align: right;\n",
       "    }\n",
       "</style>\n",
       "<table border=\"1\" class=\"dataframe\">\n",
       "  <thead>\n",
       "    <tr style=\"text-align: right;\">\n",
       "      <th></th>\n",
       "      <th>id</th>\n",
       "      <th>grp</th>\n",
       "      <th>is_active</th>\n",
       "      <th>rev</th>\n",
       "    </tr>\n",
       "  </thead>\n",
       "  <tbody>\n",
       "    <tr>\n",
       "      <th>0</th>\n",
       "      <td>1489</td>\n",
       "      <td>B</td>\n",
       "      <td>0.0</td>\n",
       "      <td>0.0</td>\n",
       "    </tr>\n",
       "    <tr>\n",
       "      <th>1</th>\n",
       "      <td>1627</td>\n",
       "      <td>A</td>\n",
       "      <td>1.0</td>\n",
       "      <td>990.0</td>\n",
       "    </tr>\n",
       "    <tr>\n",
       "      <th>2</th>\n",
       "      <td>1768</td>\n",
       "      <td>B</td>\n",
       "      <td>0.0</td>\n",
       "      <td>0.0</td>\n",
       "    </tr>\n",
       "    <tr>\n",
       "      <th>3</th>\n",
       "      <td>1783</td>\n",
       "      <td>B</td>\n",
       "      <td>0.0</td>\n",
       "      <td>0.0</td>\n",
       "    </tr>\n",
       "    <tr>\n",
       "      <th>4</th>\n",
       "      <td>1794</td>\n",
       "      <td>A</td>\n",
       "      <td>0.0</td>\n",
       "      <td>0.0</td>\n",
       "    </tr>\n",
       "  </tbody>\n",
       "</table>\n",
       "</div>"
      ],
      "text/plain": [
       "     id grp  is_active    rev\n",
       "0  1489   B        0.0    0.0\n",
       "1  1627   A        1.0  990.0\n",
       "2  1768   B        0.0    0.0\n",
       "3  1783   B        0.0    0.0\n",
       "4  1794   A        0.0    0.0"
      ]
     },
     "execution_count": 19,
     "metadata": {},
     "output_type": "execute_result"
    }
   ],
   "source": [
    "full_data.head()"
   ]
  },
  {
   "cell_type": "markdown",
   "metadata": {},
   "source": [
    "### 1.2 Выбор метрик"
   ]
  },
  {
   "cell_type": "markdown",
   "metadata": {},
   "source": [
    "А/В тест был направлен на проверку новой механики оплаты, значит в первую очередь интересна конверсия, плюс посмотрим на средние чеки. Метрики которые будем смотреть:\n",
    "\n",
    "* CR\n",
    "\n",
    "* ARPU (Average Revenue Per User ) - средний платеж на всех пользователей (в нашем случае активных в дни эесперимента)\n",
    "\n",
    "* ARPPU ( Average Revenue Per Paying User ) - средний платеж на всех платящих пользователей"
   ]
  },
  {
   "cell_type": "markdown",
   "metadata": {},
   "source": [
    "Для выбора метода исследуем данные. \n",
    "\n",
    "Проверяем распределение пользователей по группам (в таблице выше и так видно, что распределение неравномерно, тем не менее)"
   ]
  },
  {
   "cell_type": "code",
   "execution_count": 20,
   "metadata": {},
   "outputs": [
    {
     "data": {
      "text/plain": [
       "B    80.298\n",
       "A    19.702\n",
       "Name: grp, dtype: float64"
      ]
     },
     "execution_count": 20,
     "metadata": {},
     "output_type": "execute_result"
    }
   ],
   "source": [
    "# распределение пользователей в группах в общем\n",
    "\n",
    "percent_ab_total = round(full_data.grp.value_counts(normalize=True).mul(100), 3)\n",
    "percent_ab_total"
   ]
  },
  {
   "cell_type": "code",
   "execution_count": 21,
   "metadata": {},
   "outputs": [
    {
     "data": {
      "text/plain": [
       "B    81.543\n",
       "A    18.457\n",
       "Name: grp, dtype: float64"
      ]
     },
     "execution_count": 21,
     "metadata": {},
     "output_type": "execute_result"
    }
   ],
   "source": [
    "# распределение активных пользователей в группах \n",
    "\n",
    "percent_ab_active = round(full_data.query('is_active == 1.0').grp.value_counts(normalize=True).mul(100), 3)\n",
    "percent_ab_active"
   ]
  },
  {
   "cell_type": "code",
   "execution_count": 22,
   "metadata": {},
   "outputs": [
    {
     "data": {
      "text/plain": [
       "B    80.222\n",
       "A    19.778\n",
       "Name: grp, dtype: float64"
      ]
     },
     "execution_count": 22,
     "metadata": {},
     "output_type": "execute_result"
    }
   ],
   "source": [
    "# распределение платящих пользователей в группах \n",
    "\n",
    "percent_ab_paid = round(full_data.query('rev > 0.0').grp.value_counts(normalize=True).mul(100), 3)\n",
    "percent_ab_paid"
   ]
  },
  {
   "cell_type": "markdown",
   "metadata": {},
   "source": [
    "Распределение неравномерное. В контрольной группе в 4 раза больше пользователей.\n",
    "\n",
    "Исследуем распределение денег (покупок)"
   ]
  },
  {
   "cell_type": "code",
   "execution_count": 23,
   "metadata": {},
   "outputs": [],
   "source": [
    "active_A = full_data.query('grp == \"A\" & is_active == 1.0')\n",
    "active_B = full_data.query('grp == \"B\" & is_active == 1.0')\n",
    "\n",
    "paid_A = full_data.query('grp == \"A\" & is_active == 1.0 & rev >0')\n",
    "paid_B = full_data.query('grp == \"B\" & is_active == 1.0 & rev >0')"
   ]
  },
  {
   "cell_type": "code",
   "execution_count": 24,
   "metadata": {},
   "outputs": [
    {
     "data": {
      "text/plain": [
       "<AxesSubplot:>"
      ]
     },
     "execution_count": 24,
     "metadata": {},
     "output_type": "execute_result"
    },
    {
     "data": {
      "image/png": "[encoded data removed]",
      "text/plain": [
       "<Figure size 432x288 with 1 Axes>"
      ]
     },
     "metadata": {},
     "output_type": "display_data"
    }
   ],
   "source": [
    "paid_A.rev.hist()"
   ]
  },
  {
   "cell_type": "code",
   "execution_count": 25,
   "metadata": {},
   "outputs": [
    {
     "data": {
      "text/plain": [
       "<AxesSubplot:>"
      ]
     },
     "execution_count": 25,
     "metadata": {},
     "output_type": "execute_result"
    },
    {
     "data": {
      "image/png": "[encoded data removed]",
      "text/plain": [
       "<Figure size 432x288 with 1 Axes>"
      ]
     },
     "metadata": {},
     "output_type": "display_data"
    }
   ],
   "source": [
    "paid_B.rev.hist()"
   ]
  },
  {
   "cell_type": "code",
   "execution_count": 26,
   "metadata": {},
   "outputs": [
    {
     "data": {
      "text/plain": [
       "(ShapiroResult(statistic=0.7196124196052551, pvalue=5.321687643507211e-13),\n",
       " ShapiroResult(statistic=0.8672363758087158, pvalue=8.947892893418603e-19))"
      ]
     },
     "execution_count": 26,
     "metadata": {},
     "output_type": "execute_result"
    }
   ],
   "source": [
    "# Дополнительно проверяем нормальность распределение тестом Шапиро-Уилка\n",
    "# при p-value > 0.05 - распределение нормальное\n",
    "\n",
    "shapiro(paid_A.rev), shapiro(paid_B.rev)"
   ]
  },
  {
   "cell_type": "markdown",
   "metadata": {},
   "source": [
    "Видим, что данные распределены ненормально и неравномерно. Подробнее посмотрим на \"всплеск\" около отметки 2000. \n",
    "После чего исследуем выбросы"
   ]
  },
  {
   "cell_type": "code",
   "execution_count": 27,
   "metadata": {},
   "outputs": [
    {
     "data": {
      "text/html": [
       "<div>\n",
       "<style scoped>\n",
       "    .dataframe tbody tr th:only-of-type {\n",
       "        vertical-align: middle;\n",
       "    }\n",
       "\n",
       "    .dataframe tbody tr th {\n",
       "        vertical-align: top;\n",
       "    }\n",
       "\n",
       "    .dataframe thead th {\n",
       "        text-align: right;\n",
       "    }\n",
       "</style>\n",
       "<table border=\"1\" class=\"dataframe\">\n",
       "  <thead>\n",
       "    <tr style=\"text-align: right;\">\n",
       "      <th></th>\n",
       "      <th>rev</th>\n",
       "      <th>id</th>\n",
       "    </tr>\n",
       "  </thead>\n",
       "  <tbody>\n",
       "    <tr>\n",
       "      <th>22</th>\n",
       "      <td>1900.0000</td>\n",
       "      <td>97</td>\n",
       "    </tr>\n",
       "    <tr>\n",
       "      <th>1</th>\n",
       "      <td>290.0000</td>\n",
       "      <td>63</td>\n",
       "    </tr>\n",
       "    <tr>\n",
       "      <th>8</th>\n",
       "      <td>690.0000</td>\n",
       "      <td>59</td>\n",
       "    </tr>\n",
       "    <tr>\n",
       "      <th>0</th>\n",
       "      <td>199.0000</td>\n",
       "      <td>39</td>\n",
       "    </tr>\n",
       "    <tr>\n",
       "      <th>23</th>\n",
       "      <td>1900.0001</td>\n",
       "      <td>36</td>\n",
       "    </tr>\n",
       "  </tbody>\n",
       "</table>\n",
       "</div>"
      ],
      "text/plain": [
       "          rev  id\n",
       "22  1900.0000  97\n",
       "1    290.0000  63\n",
       "8    690.0000  59\n",
       "0    199.0000  39\n",
       "23  1900.0001  36"
      ]
     },
     "execution_count": 27,
     "metadata": {},
     "output_type": "execute_result"
    }
   ],
   "source": [
    "paid_B.groupby('rev', as_index=False).agg({'id': 'count'}).sort_values('id', ascending=False).head()"
   ]
  },
  {
   "cell_type": "markdown",
   "metadata": {},
   "source": [
    "Имеем \"всплеск\" покупок на чек 1900 - 97, плюс на 1900,0001 - 36 чеков. "
   ]
  },
  {
   "cell_type": "code",
   "execution_count": 28,
   "metadata": {},
   "outputs": [
    {
     "data": {
      "image/png": "[encoded data removed]",
      "text/plain": [
       "<Figure size 432x288 with 1 Axes>"
      ]
     },
     "metadata": {},
     "output_type": "display_data"
    }
   ],
   "source": [
    "sns.boxplot(x=\"rev\", y=\"grp\", data=full_data.query(\n",
    "    'rev>0 & is_active==1.0'))\n",
    "plt.title('Распределение по группам среди оплативших пользователей')\n",
    "plt.show()"
   ]
  },
  {
   "cell_type": "code",
   "execution_count": 29,
   "metadata": {},
   "outputs": [
    {
     "name": "stdout",
     "output_type": "stream",
     "text": [
      "Выбросы по группам:\n",
      " А - 10  \n",
      " Б - 1\n"
     ]
    }
   ],
   "source": [
    "print('Выбросы по группам:\\n А -', len(active_A.query('rev > 2100')), ' \\n Б -', len(active_B.query('rev > 4000')))"
   ]
  },
  {
   "cell_type": "markdown",
   "metadata": {},
   "source": [
    "В выборках есть выбросы"
   ]
  },
  {
   "cell_type": "code",
   "execution_count": 30,
   "metadata": {},
   "outputs": [
    {
     "data": {
      "text/plain": [
       "count     107.000000\n",
       "mean      860.710280\n",
       "std       815.893445\n",
       "min       199.000000\n",
       "25%       290.000000\n",
       "50%       690.000000\n",
       "75%       990.000000\n",
       "max      3660.000000\n",
       "Name: rev, dtype: float64"
      ]
     },
     "execution_count": 30,
     "metadata": {},
     "output_type": "execute_result"
    }
   ],
   "source": [
    "# Описательные характеристики прибыли от группы A\n",
    "\n",
    "paid_A.rev.describe()"
   ]
  },
  {
   "cell_type": "code",
   "execution_count": 31,
   "metadata": {},
   "outputs": [
    {
     "data": {
      "text/plain": [
       "count     434.000000\n",
       "mean     1108.824893\n",
       "std       741.834304\n",
       "min       199.000000\n",
       "25%       420.750000\n",
       "50%       935.000000\n",
       "75%      1900.000000\n",
       "max      4650.000000\n",
       "Name: rev, dtype: float64"
      ]
     },
     "execution_count": 31,
     "metadata": {},
     "output_type": "execute_result"
    }
   ],
   "source": [
    "# Описательные характеристики прибыли от группы B\n",
    "\n",
    "paid_B.rev.describe()"
   ]
  },
  {
   "cell_type": "code",
   "execution_count": 32,
   "metadata": {},
   "outputs": [],
   "source": [
    "metric_df = pd.DataFrame(\n",
    "    columns=['total_users', 'active_users', 'paying_users', 'money', 'ARPU', 'ARPPU', 'cr'], index=['A', 'B']\n",
    ")"
   ]
  },
  {
   "cell_type": "code",
   "execution_count": 33,
   "metadata": {},
   "outputs": [],
   "source": [
    "# Рассчитываем метрики \n",
    "\n",
    "metric_df['total_users'] = full_data.grp.value_counts()\n",
    "metric_df['active_users'] = full_data.query('is_active == 1.0').grp.value_counts()\n",
    "metric_df['paying_users'] = full_data.query('rev > 0.0').grp.value_counts()\n",
    "\n",
    "metric_df['money'] = full_data.groupby('grp').rev.sum()\n",
    "metric_df['ARPU'] = metric_df['money'] / metric_df['active_users']\n",
    "metric_df['ARPPU'] = metric_df['money'] / metric_df['paying_users']\n",
    "\n",
    "metric_df['cr'] = (metric_df['paying_users'] / metric_df['active_users']) * 100"
   ]
  },
  {
   "cell_type": "code",
   "execution_count": 34,
   "metadata": {
    "scrolled": true
   },
   "outputs": [
    {
     "data": {
      "text/html": [
       "<div>\n",
       "<style scoped>\n",
       "    .dataframe tbody tr th:only-of-type {\n",
       "        vertical-align: middle;\n",
       "    }\n",
       "\n",
       "    .dataframe tbody tr th {\n",
       "        vertical-align: top;\n",
       "    }\n",
       "\n",
       "    .dataframe thead th {\n",
       "        text-align: right;\n",
       "    }\n",
       "</style>\n",
       "<table border=\"1\" class=\"dataframe\">\n",
       "  <thead>\n",
       "    <tr style=\"text-align: right;\">\n",
       "      <th></th>\n",
       "      <th>total_users</th>\n",
       "      <th>active_users</th>\n",
       "      <th>paying_users</th>\n",
       "      <th>money</th>\n",
       "      <th>ARPU</th>\n",
       "      <th>ARPPU</th>\n",
       "      <th>cr</th>\n",
       "    </tr>\n",
       "  </thead>\n",
       "  <tbody>\n",
       "    <tr>\n",
       "      <th>A</th>\n",
       "      <td>14693</td>\n",
       "      <td>1567</td>\n",
       "      <td>107</td>\n",
       "      <td>92096.0000</td>\n",
       "      <td>58.772176</td>\n",
       "      <td>860.710280</td>\n",
       "      <td>6.828334</td>\n",
       "    </tr>\n",
       "    <tr>\n",
       "      <th>B</th>\n",
       "      <td>59883</td>\n",
       "      <td>6923</td>\n",
       "      <td>434</td>\n",
       "      <td>481230.0036</td>\n",
       "      <td>69.511773</td>\n",
       "      <td>1108.824893</td>\n",
       "      <td>6.268959</td>\n",
       "    </tr>\n",
       "  </tbody>\n",
       "</table>\n",
       "</div>"
      ],
      "text/plain": [
       "   total_users  active_users  paying_users        money       ARPU  \\\n",
       "A        14693          1567           107   92096.0000  58.772176   \n",
       "B        59883          6923           434  481230.0036  69.511773   \n",
       "\n",
       "         ARPPU        cr  \n",
       "A   860.710280  6.828334  \n",
       "B  1108.824893  6.268959  "
      ]
     },
     "execution_count": 34,
     "metadata": {},
     "output_type": "execute_result"
    }
   ],
   "source": [
    "metric_df"
   ]
  },
  {
   "cell_type": "markdown",
   "metadata": {},
   "source": [
    "### 1.3 Анализ конверсии"
   ]
  },
  {
   "cell_type": "markdown",
   "metadata": {},
   "source": [
    "Итак, А – контрольная группа, B – целевая.\n",
    "\n",
    "Цель эксперимента с новой механикой оплат понять, влияет ли она на конверсию в покупку (новая механика проще, меньше пользователей отваливается на этапе оплаты) и приведет ли к росту дохода.\n",
    "\n",
    "Предварительные выводы по метрикам CR, ARPU, ARPPU согласно графикам и описательной характеристике:\n",
    "* CR в целевой группе снизился, что уже плохо, тк новой механикой его планировалось повысить. \n",
    "* ARPU и ARPPU в группе В выше, хотя наш эксперимент не был направлен на увеличение средних чеков. \n",
    "\n",
    "На данном этапе можно говорить о негативном результате в плане показателей конверсии и неожиданном результате по части средних чеков. Не стоит упускать из вида повышение спроса на ценник 1900, причиной которого может быть другой эксперимент  - какое-либо промо на данный чек, кэшбэк/бонусы/и тд. Дополнительным подтверждением замечания можно отметить рост arpu и arppu. Требует уточнения - одновременное проведение двух экспериментов недопустимо. Или причиной может быть ошибка при сборе данных.\n",
    "\n",
    "\n",
    "**Вернемся к CR.** Проанализируем конверсию методом хи-квадрат\n",
    "Предварительно по расчетной таблице метрик можно судить о снижении конверсии в покупку у тестовой группы. Проанализируем стат значимость этого наблюдения.\n",
    "\n",
    "Формируем гипотезы: \n",
    "\n",
    "Н0: \"Конверсии в группах А и В не различаются\"\n",
    "\n",
    "Н1 : \"Конверсия в группе В снизилась\""
   ]
  },
  {
   "cell_type": "code",
   "execution_count": 35,
   "metadata": {},
   "outputs": [],
   "source": [
    "# требуется 2 бинарных еденицы, в частности отметка - совершил/не совершил оплату. Добавим столбец\n",
    "\n",
    "full_data_cr = full_data.query('is_active == 1.0')\n",
    "full_data_cr['paid'] = full_data_cr.rev > 0"
   ]
  },
  {
   "cell_type": "code",
   "execution_count": 36,
   "metadata": {},
   "outputs": [
    {
     "data": {
      "text/html": [
       "<div>\n",
       "<style scoped>\n",
       "    .dataframe tbody tr th:only-of-type {\n",
       "        vertical-align: middle;\n",
       "    }\n",
       "\n",
       "    .dataframe tbody tr th {\n",
       "        vertical-align: top;\n",
       "    }\n",
       "\n",
       "    .dataframe thead th {\n",
       "        text-align: right;\n",
       "    }\n",
       "</style>\n",
       "<table border=\"1\" class=\"dataframe\">\n",
       "  <thead>\n",
       "    <tr style=\"text-align: right;\">\n",
       "      <th></th>\n",
       "      <th>id</th>\n",
       "      <th>grp</th>\n",
       "      <th>is_active</th>\n",
       "      <th>rev</th>\n",
       "      <th>paid</th>\n",
       "    </tr>\n",
       "  </thead>\n",
       "  <tbody>\n",
       "    <tr>\n",
       "      <th>1</th>\n",
       "      <td>1627</td>\n",
       "      <td>A</td>\n",
       "      <td>1.0</td>\n",
       "      <td>990.0</td>\n",
       "      <td>True</td>\n",
       "    </tr>\n",
       "    <tr>\n",
       "      <th>10</th>\n",
       "      <td>2085</td>\n",
       "      <td>B</td>\n",
       "      <td>1.0</td>\n",
       "      <td>0.0</td>\n",
       "      <td>False</td>\n",
       "    </tr>\n",
       "  </tbody>\n",
       "</table>\n",
       "</div>"
      ],
      "text/plain": [
       "      id grp  is_active    rev   paid\n",
       "1   1627   A        1.0  990.0   True\n",
       "10  2085   B        1.0    0.0  False"
      ]
     },
     "execution_count": 36,
     "metadata": {},
     "output_type": "execute_result"
    }
   ],
   "source": [
    "full_data_cr[:2]"
   ]
  },
  {
   "cell_type": "code",
   "execution_count": 37,
   "metadata": {},
   "outputs": [
    {
     "data": {
      "text/html": [
       "<div>\n",
       "<style scoped>\n",
       "    .dataframe tbody tr th:only-of-type {\n",
       "        vertical-align: middle;\n",
       "    }\n",
       "\n",
       "    .dataframe tbody tr th {\n",
       "        vertical-align: top;\n",
       "    }\n",
       "\n",
       "    .dataframe thead th {\n",
       "        text-align: right;\n",
       "    }\n",
       "</style>\n",
       "<table border=\"1\" class=\"dataframe\">\n",
       "  <thead>\n",
       "    <tr style=\"text-align: right;\">\n",
       "      <th>paid</th>\n",
       "      <th>False</th>\n",
       "      <th>True</th>\n",
       "    </tr>\n",
       "    <tr>\n",
       "      <th>grp</th>\n",
       "      <th></th>\n",
       "      <th></th>\n",
       "    </tr>\n",
       "  </thead>\n",
       "  <tbody>\n",
       "    <tr>\n",
       "      <th>A</th>\n",
       "      <td>1460</td>\n",
       "      <td>107</td>\n",
       "    </tr>\n",
       "    <tr>\n",
       "      <th>B</th>\n",
       "      <td>6489</td>\n",
       "      <td>434</td>\n",
       "    </tr>\n",
       "  </tbody>\n",
       "</table>\n",
       "</div>"
      ],
      "text/plain": [
       "paid  False  True\n",
       "grp              \n",
       "A      1460   107\n",
       "B      6489   434"
      ]
     },
     "execution_count": 37,
     "metadata": {},
     "output_type": "execute_result"
    }
   ],
   "source": [
    "df_chi2 = pd.crosstab(full_data_cr.grp, full_data_cr.paid)\n",
    "df_chi2"
   ]
  },
  {
   "cell_type": "code",
   "execution_count": 38,
   "metadata": {},
   "outputs": [
    {
     "name": "stdout",
     "output_type": "stream",
     "text": [
      "test Statistics: 0.579666003588264\n",
      "degrees of freedom: 1\n",
      "p-value: 0.4464432666411111\n",
      "\n",
      "[[1467.14758539   99.85241461]\n",
      " [6481.85241461  441.14758539]]\n"
     ]
    }
   ],
   "source": [
    "chi2, prob, df, expected = chi2_contingency(df_chi2)\n",
    "\n",
    "output = \"test Statistics: {}\\ndegrees of freedom: {}\\np-value: {}\\n\"\n",
    "\n",
    "print(output.format(chi2, df, prob))\n",
    "\n",
    "print(expected)"
   ]
  },
  {
   "cell_type": "markdown",
   "metadata": {},
   "source": [
    " p_value > 0.05 а значит нет оснований отклонить нулевую гипотезу, принимаем что, конверсии не отличаются."
   ]
  },
  {
   "cell_type": "markdown",
   "metadata": {},
   "source": [
    "### 1.4 Анализ средних чеков"
   ]
  },
  {
   "cell_type": "markdown",
   "metadata": {},
   "source": [
    "Здесь применим бутстрап для определения статистической значимости изменений, от применения t-тест или критерия Манна-Уитни отказываемся (ненормальное распределение и сложность интерпритаци результатов), применим бутстрап-метод для определения статистической значимости."
   ]
  },
  {
   "cell_type": "code",
   "execution_count": 39,
   "metadata": {},
   "outputs": [],
   "source": [
    "# Объявим функцию, которая позволит проверять гипотезы с помощью бутстрапа\n",
    "\n",
    "def get_bootstrap(\n",
    "    data_column_1,  # числовые значения первой выборки\n",
    "    data_column_2,  # числовые значения второй выборки\n",
    "    boot_it=1000,  # количество бутстрэп-подвыборок\n",
    "    bootstrap_conf_level=0.95,  # уровень значимости\n",
    "    statistic = np.mean\n",
    "):\n",
    "    boot_len = max([len(data_column_1), len(data_column_2)])\n",
    "    boot_data = []\n",
    "    for i in tqdm(range(boot_it)):  # извлекаем подвыборки\n",
    "        samples_1 = data_column_1.sample(\n",
    "            boot_len, \n",
    "            replace=True  # параметр возвращения\n",
    "        ).values\n",
    "        \n",
    "        samples_2 = data_column_2.sample(\n",
    "            boot_len, \n",
    "            replace=True\n",
    "        ).values\n",
    "        boot_data.append(statistic(samples_1 - samples_2))\n",
    "              \n",
    "    pd_boot_data = pd.DataFrame(boot_data)\n",
    "        \n",
    "    left_quant = (1 - bootstrap_conf_level) / 2\n",
    "    right_quant = 1 - (1 - bootstrap_conf_level) / 2\n",
    "    ci = pd_boot_data.quantile([left_quant, right_quant])\n",
    "        \n",
    "    p_1 = norm.cdf(\n",
    "        x=0, \n",
    "        loc=np.mean(boot_data), \n",
    "        scale=np.std(boot_data)\n",
    "    )\n",
    "    p_2 = norm.cdf(\n",
    "        x=0, \n",
    "        loc=-np.mean(boot_data), \n",
    "        scale=np.std(boot_data)\n",
    "    )\n",
    "    p_value = min(p_1, p_2) * 2\n",
    "        \n",
    "    # Визуализация\n",
    "    plt.hist(pd_boot_data[0], bins=50)\n",
    "    \n",
    "    plt.style.use('ggplot')\n",
    "    plt.vlines(ci, ymin=0, ymax=50, linestyle='--')\n",
    "    plt.xlabel('boot_data')\n",
    "    plt.ylabel('frequency')\n",
    "    plt.title(\"Histogram of boot_data\")\n",
    "    plt.show()\n",
    "       \n",
    "    return {\"boot_data\": boot_data, \n",
    "            \"ci\": ci, \n",
    "            \"p_value\": p_value}"
   ]
  },
  {
   "cell_type": "markdown",
   "metadata": {},
   "source": [
    "**Проверка ARPU**\n",
    "\n",
    "Формулируем гипотезы:\n",
    "\n",
    "Н0 : \"Изменение механики оплаты не влияет на средний чек\" \n",
    "\n",
    "Н1 : \"Изменение механики оплаты повлечет рост среднего чека\""
   ]
  },
  {
   "cell_type": "code",
   "execution_count": 40,
   "metadata": {
    "scrolled": false
   },
   "outputs": [
    {
     "data": {
      "application/vnd.jupyter.widget-view+json": {
       "model_id": "3adf8788b34b45278b22755d5acc727d",
       "version_major": 2,
       "version_minor": 0
      },
      "text/plain": [
       "  0%|          | 0/1000 [00:00<?, ?it/s]"
      ]
     },
     "metadata": {},
     "output_type": "display_data"
    },
    {
     "data": {
      "image/png": "[encoded data removed]",
      "text/plain": [
       "<Figure size 432x288 with 1 Axes>"
      ]
     },
     "metadata": {},
     "output_type": "display_data"
    },
    {
     "name": "stdout",
     "output_type": "stream",
     "text": [
      "Значение p_value: 0.0419430099436854\n"
     ]
    }
   ],
   "source": [
    "# применение бутстрап к данным по активным пользователям\n",
    "\n",
    "booted_data_rev = get_bootstrap(active_A.rev, active_B.rev)\n",
    "\n",
    "print(f'Значение p_value: {booted_data_rev[\"p_value\"]}')"
   ]
  },
  {
   "cell_type": "code",
   "execution_count": 41,
   "metadata": {
    "scrolled": true
   },
   "outputs": [
    {
     "data": {
      "text/html": [
       "<div>\n",
       "<style scoped>\n",
       "    .dataframe tbody tr th:only-of-type {\n",
       "        vertical-align: middle;\n",
       "    }\n",
       "\n",
       "    .dataframe tbody tr th {\n",
       "        vertical-align: top;\n",
       "    }\n",
       "\n",
       "    .dataframe thead th {\n",
       "        text-align: right;\n",
       "    }\n",
       "</style>\n",
       "<table border=\"1\" class=\"dataframe\">\n",
       "  <thead>\n",
       "    <tr style=\"text-align: right;\">\n",
       "      <th></th>\n",
       "      <th>0</th>\n",
       "    </tr>\n",
       "  </thead>\n",
       "  <tbody>\n",
       "    <tr>\n",
       "      <th>0.025</th>\n",
       "      <td>-21.525080</td>\n",
       "    </tr>\n",
       "    <tr>\n",
       "      <th>0.975</th>\n",
       "      <td>-0.399575</td>\n",
       "    </tr>\n",
       "  </tbody>\n",
       "</table>\n",
       "</div>"
      ],
      "text/plain": [
       "               0\n",
       "0.025 -21.525080\n",
       "0.975  -0.399575"
      ]
     },
     "execution_count": 41,
     "metadata": {},
     "output_type": "execute_result"
    }
   ],
   "source": [
    "booted_data_rev['ci']"
   ]
  },
  {
   "cell_type": "markdown",
   "metadata": {},
   "source": [
    "Методом Bootstrap (срез по активным пользователям) получили p_value < 0.05 и '0' не входящий в доверительный интервал. Из этого следует, что есть основание отвергать нулевую гипотезу H0 и принять альтернативную, изменение механики оплаты  повлияет на средний чек."
   ]
  },
  {
   "cell_type": "markdown",
   "metadata": {},
   "source": [
    "**Проверка ARPPU**\n",
    "\n",
    "Гипотезы:\n",
    "\n",
    "Н0 : \"Изменение механики оплаты не влияет на средний чек платящих пользователей\" \n",
    "\n",
    "Н1 : \"Изменение механики оплаты повлечет рост arppu\""
   ]
  },
  {
   "cell_type": "code",
   "execution_count": 42,
   "metadata": {},
   "outputs": [
    {
     "data": {
      "application/vnd.jupyter.widget-view+json": {
       "model_id": "b7e592edc057421c8985534b41300a5e",
       "version_major": 2,
       "version_minor": 0
      },
      "text/plain": [
       "  0%|          | 0/1000 [00:00<?, ?it/s]"
      ]
     },
     "metadata": {},
     "output_type": "display_data"
    },
    {
     "data": {
      "image/png": "[encoded data removed]",
      "text/plain": [
       "<Figure size 432x288 with 1 Axes>"
      ]
     },
     "metadata": {},
     "output_type": "display_data"
    },
    {
     "name": "stdout",
     "output_type": "stream",
     "text": [
      "Значение p_value: 1.6042955255864301e-06\n"
     ]
    }
   ],
   "source": [
    "# применение бутстрап к данным по платящим пользователям\n",
    "\n",
    "booted_data_rev_1 = get_bootstrap(paid_A.rev, paid_B.rev)\n",
    "\n",
    "print(f'Значение p_value: {booted_data_rev_1[\"p_value\"]}')"
   ]
  },
  {
   "cell_type": "code",
   "execution_count": 43,
   "metadata": {},
   "outputs": [
    {
     "data": {
      "text/html": [
       "<div>\n",
       "<style scoped>\n",
       "    .dataframe tbody tr th:only-of-type {\n",
       "        vertical-align: middle;\n",
       "    }\n",
       "\n",
       "    .dataframe tbody tr th {\n",
       "        vertical-align: top;\n",
       "    }\n",
       "\n",
       "    .dataframe thead th {\n",
       "        text-align: right;\n",
       "    }\n",
       "</style>\n",
       "<table border=\"1\" class=\"dataframe\">\n",
       "  <thead>\n",
       "    <tr style=\"text-align: right;\">\n",
       "      <th></th>\n",
       "      <th>0</th>\n",
       "    </tr>\n",
       "  </thead>\n",
       "  <tbody>\n",
       "    <tr>\n",
       "      <th>0.025</th>\n",
       "      <td>-346.499260</td>\n",
       "    </tr>\n",
       "    <tr>\n",
       "      <th>0.975</th>\n",
       "      <td>-147.474143</td>\n",
       "    </tr>\n",
       "  </tbody>\n",
       "</table>\n",
       "</div>"
      ],
      "text/plain": [
       "                0\n",
       "0.025 -346.499260\n",
       "0.975 -147.474143"
      ]
     },
     "execution_count": 43,
     "metadata": {},
     "output_type": "execute_result"
    }
   ],
   "source": [
    "booted_data_rev_1['ci']"
   ]
  },
  {
   "cell_type": "markdown",
   "metadata": {},
   "source": [
    "Методом Bootstrap (срез по платящим пользователям) получили p_value < 0.05 и '0' не входящий в доверительный интервал. Как и в предыдущем случае, здесь есть основание отвергнуть нулевую гипотезу и принять альтернативную, принять, что изменение механики повлечет рост среднего чека в разрезе платящих пользователей.\n",
    "\n",
    "Делаем вывод о стат значимости роста arpu и arppu в целевой группе."
   ]
  },
  {
   "cell_type": "markdown",
   "metadata": {},
   "source": [
    "### 1.5  Итоги "
   ]
  },
  {
   "cell_type": "markdown",
   "metadata": {},
   "source": [
    " * Проверка статистической значимости изменения конверсии дала отрицательный результат, разницы CR в группах нет\n",
    " \n",
    " * Bootstrap показал наличие статистически значимых различий arpu и arppu в исследуемых группах, в целевой группе показатели выше на 29% и 36% соответственно. Есть основание считать результаты статзначимы. \n",
    "\n",
    "* Увеличение дохода в тестовой группе прошло неравномерно относительно контрольной. Был выявлен явный всплеск покупок (ценник 1900). Что это: результат другого одновременно проводимого эксперимента или ошибка при сборе данных?\n",
    "\n",
    "* В рамках заявленного эксперимента очевидно ожидание роста cr (цель - меньше пользователей \"отваливается\" на этапе оплаты), вместо этого получили прирост arpu и arppu"
   ]
  },
  {
   "cell_type": "markdown",
   "metadata": {},
   "source": [
    "### 1.6 Выводы"
   ]
  },
  {
   "cell_type": "markdown",
   "metadata": {},
   "source": [
    "Оставить базовую (старую) механику оплаты вплоть до выяснения:\n",
    "\n",
    "1. Был/не был одновременно запущен другой эксперимент;\n",
    "2. Причины всплеска продаж ценника 1900 в тестовой (В) группе \n",
    "\n",
    "Если ответы по пунктам 1 и 2 отрицательные  - не было второго эксперимента и нет ошибок - выкатывать новую механику оплат на всех пользователей уместно только после обсуждения результата со стейкхолдерами. Тк несмотря на рост средних чеков, основная задача - повысить конверсию - не решена. Оптимальным, на мой взгляд, здесь будет повторить эксперимент.\n",
    "\n",
    "Также повтор A/B тестирования потребуется, если окажется, что одновременно проводили другое тестирование.\n",
    "\n",
    "Такми образом А/В тест механики нужно повторить. Плюс обратить внимание на: \n",
    "* спрос на ценник 1900;\n",
    "* распределение пользователей по группам."
   ]
  },
  {
   "cell_type": "markdown",
   "metadata": {},
   "source": [
    "___________________________________________________________________________________"
   ]
  },
  {
   "cell_type": "markdown",
   "metadata": {},
   "source": [
    "## 3. Python"
   ]
  },
  {
   "cell_type": "markdown",
   "metadata": {},
   "source": [
    "### 3.1 Функция для автоматической подгрузки информации из дополнительного файла groups_add.csv  и  перерасчета метрик"
   ]
  },
  {
   "cell_type": "code",
   "execution_count": 44,
   "metadata": {},
   "outputs": [],
   "source": [
    "url_base = 'https://getfile.dokpub.com/yandex/get/'\n",
    "link = 'https://disk.yandex.ru/d/5Kxrz02m3IBUwQ'   # на входе подается ссылка на новый groups_add файл\n",
    "groups_add_path = url_base + link"
   ]
  },
  {
   "cell_type": "code",
   "execution_count": 45,
   "metadata": {},
   "outputs": [
    {
     "name": "stdout",
     "output_type": "stream",
     "text": [
      "Подгружает данные из доп файла и пересчитывает метрики\n"
     ]
    }
   ],
   "source": [
    "def add_new_data(groups_add_path, groups, active_studs, checks):\n",
    "    \"\"\"Подгружает данные из доп файла и пересчитывает метрики\"\"\"\n",
    "    \n",
    "    # Скачивание данных с Яндекс.Диск \n",
    "    groups_add = pd.read_csv(groups_add_path, sep=',')\n",
    "    \n",
    "    # Объединение в общий DataFrame\n",
    "    groups_all = pd.concat([groups, groups_add.rename(columns={groups_add.columns[0]: 'id',\n",
    "                                                               groups_add.columns[1]: 'grp'})])\n",
    "    # Обновление индексов\n",
    "    groups_all = groups_all.reset_index(drop=True)\n",
    "    \n",
    "    # Приведение колонок к одинаковому названию\n",
    "    active_studs.rename(columns={'student_id': 'id'}, inplace=True)\n",
    "    checks.rename(columns={'student_id': 'id'}, inplace=True)\n",
    "    \n",
    "    active_studs['is_active'] = 1\n",
    "    \n",
    "    # Полный датафрейм\n",
    "    df = groups_all.merge(active_studs, how='left', on='id').merge(checks, how='left', on='id').fillna(0)\n",
    "\n",
    "    metrics_df = pd.DataFrame(\n",
    "        columns=['total_users', 'active_users', 'paying_users', 'money', 'ARPU', 'ARPPU', 'cr'], index=['A', 'B']\n",
    "    )\n",
    "    \n",
    "    metrics_df['total_users'] = df.grp.value_counts()\n",
    "    metrics_df['active_users'] = df.query('is_active == 1').grp.value_counts()\n",
    "    metrics_df['paying_users'] = df.query('rev > 0').grp.value_counts()\n",
    "    metrics_df['money'] = df.groupby('grp').rev.sum()\n",
    "    metrics_df['ARPU'] = metrics_df['money'] / metrics_df['active_users']\n",
    "    metrics_df['ARPPU'] = metrics_df['money'] / metrics_df['paying_users']\n",
    "    metrics_df['cr'] = (metrics_df['paying_users'] / metrics_df['active_users']) * 100\n",
    "    \n",
    "    return metrics_df\n",
    "\n",
    "\n",
    "print(add_new_data.__doc__)"
   ]
  },
  {
   "cell_type": "code",
   "execution_count": 46,
   "metadata": {},
   "outputs": [],
   "source": [
    "metrics_df = add_new_data(groups_add_path, groups, active_studs, checks)"
   ]
  },
  {
   "cell_type": "code",
   "execution_count": 47,
   "metadata": {},
   "outputs": [
    {
     "data": {
      "text/html": [
       "<div>\n",
       "<style scoped>\n",
       "    .dataframe tbody tr th:only-of-type {\n",
       "        vertical-align: middle;\n",
       "    }\n",
       "\n",
       "    .dataframe tbody tr th {\n",
       "        vertical-align: top;\n",
       "    }\n",
       "\n",
       "    .dataframe thead th {\n",
       "        text-align: right;\n",
       "    }\n",
       "</style>\n",
       "<table border=\"1\" class=\"dataframe\">\n",
       "  <thead>\n",
       "    <tr style=\"text-align: right;\">\n",
       "      <th></th>\n",
       "      <th>total_users</th>\n",
       "      <th>active_users</th>\n",
       "      <th>paying_users</th>\n",
       "      <th>money</th>\n",
       "      <th>ARPU</th>\n",
       "      <th>ARPPU</th>\n",
       "      <th>cr</th>\n",
       "    </tr>\n",
       "  </thead>\n",
       "  <tbody>\n",
       "    <tr>\n",
       "      <th>A</th>\n",
       "      <td>14693</td>\n",
       "      <td>1538</td>\n",
       "      <td>107</td>\n",
       "      <td>92096.0000</td>\n",
       "      <td>59.880364</td>\n",
       "      <td>860.710280</td>\n",
       "      <td>6.957087</td>\n",
       "    </tr>\n",
       "    <tr>\n",
       "      <th>B</th>\n",
       "      <td>59883</td>\n",
       "      <td>6803</td>\n",
       "      <td>434</td>\n",
       "      <td>481230.0036</td>\n",
       "      <td>70.737910</td>\n",
       "      <td>1108.824893</td>\n",
       "      <td>6.379538</td>\n",
       "    </tr>\n",
       "  </tbody>\n",
       "</table>\n",
       "</div>"
      ],
      "text/plain": [
       "   total_users  active_users  paying_users        money       ARPU  \\\n",
       "A        14693          1538           107   92096.0000  59.880364   \n",
       "B        59883          6803           434  481230.0036  70.737910   \n",
       "\n",
       "         ARPPU        cr  \n",
       "A   860.710280  6.957087  \n",
       "B  1108.824893  6.379538  "
      ]
     },
     "execution_count": 47,
     "metadata": {},
     "output_type": "execute_result"
    }
   ],
   "source": [
    "metrics_df"
   ]
  },
  {
   "cell_type": "markdown",
   "metadata": {},
   "source": [
    "### 3.2 Функция, которая строит графики по полученным метрикам"
   ]
  },
  {
   "cell_type": "code",
   "execution_count": 48,
   "metadata": {},
   "outputs": [
    {
     "name": "stdout",
     "output_type": "stream",
     "text": [
      "Построение графиков по полученным метриакам\n"
     ]
    }
   ],
   "source": [
    "def get_graphs(metrics_df):\n",
    "    \"\"\"Построение графиков по полученным метриакам\"\"\"\n",
    "    fig, axes = plt.subplots(3, 1, figsize=(20, 10))\n",
    "    sns.barplot(ax=axes[0], data=metrics_df, x=metrics_df['ARPU'], y=metrics_df.index.values)\n",
    "    sns.barplot(ax=axes[1], data=metrics_df, x=metrics_df['ARPPU'], y=metrics_df.index.values)\n",
    "    \n",
    "    sns.barplot(ax=axes[2], data=metrics_df, x=metrics_df['cr'], y=metrics_df.index.values)\n",
    "\n",
    "    \n",
    "print(get_graphs.__doc__)"
   ]
  },
  {
   "cell_type": "code",
   "execution_count": 49,
   "metadata": {
    "scrolled": true
   },
   "outputs": [
    {
     "data": {
      "image/png": "[encoded data removed]",
      "text/plain": [
       "<Figure size 1440x720 with 3 Axes>"
      ]
     },
     "metadata": {},
     "output_type": "display_data"
    }
   ],
   "source": [
    "get_graphs(metrics_df)"
   ]
  },
  {
   "cell_type": "markdown",
   "metadata": {},
   "source": [
    "______________________________________________________________________________________________________________________"
   ]
  }
 ],
 "metadata": {
  "kernelspec": {
   "display_name": "Python 3 (ipykernel)",
   "language": "python",
   "name": "python3"
  },
  "language_info": {
   "codemirror_mode": {
    "name": "ipython",
    "version": 3
   },
   "file_extension": ".py",
   "mimetype": "text/x-python",
   "name": "python",
   "nbconvert_exporter": "python",
   "pygments_lexer": "ipython3",
   "version": "3.9.12"
  }
 },
 "nbformat": 4,
 "nbformat_minor": 4
}
